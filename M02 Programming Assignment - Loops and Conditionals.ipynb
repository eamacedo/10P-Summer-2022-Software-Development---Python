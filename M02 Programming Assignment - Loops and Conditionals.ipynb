{
 "cells": [
  {
   "cell_type": "markdown",
   "id": "15094706",
   "metadata": {},
   "source": [
    "4.1"
   ]
  },
  {
   "cell_type": "code",
   "execution_count": 2,
   "id": "ed9749ce",
   "metadata": {},
   "outputs": [
    {
     "name": "stdout",
     "output_type": "stream",
     "text": [
      "too low\n"
     ]
    }
   ],
   "source": [
    "secretNumber = 7\n",
    "guessNumber = 1\n",
    "if secretNumber > guessNumber:\n",
    "    print(\"too low\")\n",
    "elif secretNumber < guessNumber:\n",
    "    print(\"too high\")\n",
    "else:\n",
    "    print(\"just right\")"
   ]
  },
  {
   "cell_type": "markdown",
   "id": "82b20d5d",
   "metadata": {},
   "source": [
    "4.2"
   ]
  },
  {
   "cell_type": "code",
   "execution_count": 3,
   "id": "36cbfe7d",
   "metadata": {},
   "outputs": [
    {
     "name": "stdout",
     "output_type": "stream",
     "text": [
      "It is a watermelon.\n"
     ]
    }
   ],
   "source": [
    "isSmall = False\n",
    "isGreen = True\n",
    "if isSmall:\n",
    "    if isGreen:\n",
    "        print(\"It is a pea.\")\n",
    "    else:\n",
    "        print(\"It is a cherry.\")\n",
    "else:\n",
    "    if isGreen:\n",
    "        print(\"It is a watermelon.\")\n",
    "    else:\n",
    "        print(\"It is a pumpkin.\")"
   ]
  },
  {
   "cell_type": "markdown",
   "id": "88edef46",
   "metadata": {},
   "source": [
    "6.1 I would appreciate feedback! First, I will include the answer I believe the textbook was looking for. Second, I will include the intial way I tried to program the solution but the list kept on printing in reverse order. I tried playing around with it, but I could not figure out what I did wrong. "
   ]
  },
  {
   "cell_type": "code",
   "execution_count": 4,
   "id": "17e6f878",
   "metadata": {},
   "outputs": [
    {
     "name": "stdout",
     "output_type": "stream",
     "text": [
      "3\n",
      "2\n",
      "1\n",
      "0\n"
     ]
    }
   ],
   "source": [
    "for i in [3, 2, 1, 0]:\n",
    "    print(i)"
   ]
  },
  {
   "cell_type": "code",
   "execution_count": 5,
   "id": "cae0b879",
   "metadata": {},
   "outputs": [
    {
     "name": "stdout",
     "output_type": "stream",
     "text": [
      "0\n",
      "1\n",
      "2\n",
      "3\n"
     ]
    }
   ],
   "source": [
    "myList = [3, 2, 1, 0]\n",
    "for i in myList:\n",
    "    print(myList[i])"
   ]
  },
  {
   "cell_type": "markdown",
   "id": "9fee084a",
   "metadata": {},
   "source": [
    "6.2"
   ]
  },
  {
   "cell_type": "code",
   "execution_count": 6,
   "id": "31cf13cc",
   "metadata": {},
   "outputs": [
    {
     "name": "stdout",
     "output_type": "stream",
     "text": [
      "too low\n",
      "too low\n",
      "too low\n",
      "too low\n",
      "too low\n",
      "too low\n",
      "found it!\n"
     ]
    }
   ],
   "source": [
    "guess_me = 7\n",
    "number = 1\n",
    "while number != guess_me:\n",
    "    if number < guess_me:\n",
    "        print(\"too low\")\n",
    "    else:\n",
    "        print(\"oops!\")\n",
    "        break\n",
    "    number += 1\n",
    "else:\n",
    "    print(\"found it!\")"
   ]
  },
  {
   "cell_type": "markdown",
   "id": "024fdbdb",
   "metadata": {},
   "source": [
    "6.3 I struggled with this one as well! I tried to change the range and the value of guess_me but I could not make it print \"oops!\""
   ]
  },
  {
   "cell_type": "code",
   "execution_count": 7,
   "id": "421c87ca",
   "metadata": {},
   "outputs": [
    {
     "name": "stdout",
     "output_type": "stream",
     "text": [
      "too low\n",
      "too low\n",
      "too low\n",
      "too low\n",
      "too low\n",
      "found it!\n"
     ]
    }
   ],
   "source": [
    "guess_me = 5\n",
    "for number in range(10):\n",
    "    if number < guess_me:\n",
    "        print(\"too low\")\n",
    "    elif number == guess_me:\n",
    "        print(\"found it!\")\n",
    "        break\n",
    "    else:\n",
    "        print(\"oops\")\n",
    "        break"
   ]
  },
  {
   "cell_type": "code",
   "execution_count": null,
   "id": "8f90e69a",
   "metadata": {},
   "outputs": [],
   "source": []
  }
 ],
 "metadata": {
  "kernelspec": {
   "display_name": "Python 3 (ipykernel)",
   "language": "python",
   "name": "python3"
  },
  "language_info": {
   "codemirror_mode": {
    "name": "ipython",
    "version": 3
   },
   "file_extension": ".py",
   "mimetype": "text/x-python",
   "name": "python",
   "nbconvert_exporter": "python",
   "pygments_lexer": "ipython3",
   "version": "3.9.12"
  }
 },
 "nbformat": 4,
 "nbformat_minor": 5
}
