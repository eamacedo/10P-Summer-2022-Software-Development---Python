{
 "cells": [
  {
   "cell_type": "code",
   "execution_count": 1,
   "id": "88b129a4",
   "metadata": {},
   "outputs": [
    {
     "name": "stdout",
     "output_type": "stream",
     "text": [
      "Please enter the student's last name or ZZZ to exit: Hello\n",
      "Please enter the student's first name: Erica\n",
      "Please enter the student's GPA: 4.2\n",
      "Erica Hello made the Dean's list!\n",
      "Please enter the student's last name or ZZZ to exit: Test@\n",
      "Please enter the student's first name: Erica\n",
      "Please enter the student's GPA: 3.27\n",
      "Erica Test@ made the Honor Roll!\n",
      "Please enter the student's last name or ZZZ to exit: Thompson\n",
      "Please enter the student's first name: Andrew\n",
      "Please enter the student's GPA: 1.3\n",
      "Please enter the student's last name or ZZZ to exit: Jones\n",
      "Please enter the student's first name: Ryan\n",
      "Please enter the student's GPA: 4.2\n",
      "Ryan Jones made the Dean's list!\n",
      "Please enter the student's last name or ZZZ to exit: zzz\n"
     ]
    }
   ],
   "source": [
    "#Name: Erica Macedo\n",
    "#File Name: M02Lab-CaseStudy.py\n",
    "#The app outputs whether a student qualifies for Dean's List/Honor Roll\n",
    "\n",
    "studentLastName = input(\"Please enter the student's last name or ZZZ to exit: \")\n",
    "while studentLastName != 'ZZZ' and studentLastName != 'zzz':\n",
    "    studentFirstName = input(\"Please enter the student's first name: \")\n",
    "    studentGPA = input(\"Please enter the student's GPA: \")\n",
    "    if float(studentGPA) >= 3.5:\n",
    "        print(studentFirstName, studentLastName, \"made the Dean's list!\")\n",
    "    elif float(studentGPA) >= 3.25:\n",
    "        print(studentFirstName, studentLastName, \"made the Honor Roll!\")\n",
    "    studentLastName = input(\"Please enter the student's last name or ZZZ to exit: \")"
   ]
  },
  {
   "cell_type": "code",
   "execution_count": null,
   "id": "a5ccb3be",
   "metadata": {},
   "outputs": [],
   "source": []
  }
 ],
 "metadata": {
  "kernelspec": {
   "display_name": "Python 3 (ipykernel)",
   "language": "python",
   "name": "python3"
  },
  "language_info": {
   "codemirror_mode": {
    "name": "ipython",
    "version": 3
   },
   "file_extension": ".py",
   "mimetype": "text/x-python",
   "name": "python",
   "nbconvert_exporter": "python",
   "pygments_lexer": "ipython3",
   "version": "3.9.12"
  }
 },
 "nbformat": 4,
 "nbformat_minor": 5
}
