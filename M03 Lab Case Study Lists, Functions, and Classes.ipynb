{
 "cells": [
  {
   "cell_type": "code",
   "execution_count": 1,
   "id": "f0535537",
   "metadata": {},
   "outputs": [
    {
     "name": "stdout",
     "output_type": "stream",
     "text": [
      "Hello! You can store car details here!\n",
      "Please select an option! \n",
      "1. Enter a new car's information \n",
      "2. Quit\n",
      "Selection: 1\n",
      "Do you have a car, truck, plane, boat, or broomstick? car\n",
      "Year of vehicle: 2015\n",
      "Make of vehicle: Toyota\n",
      "Model of vehicle: Camry\n",
      "2 or 4 doors (Note: Just enter a digit): 3\n",
      "Incorrect entry! Please enter 2 or 4: 2\n",
      "Enter sun for sunroof or solid for a solid car roof: sun\n",
      "Here is a confirmation of your details:\n",
      "Year: 2015\n",
      "Make: Toyota\n",
      "Model: Camry\n",
      "Number of Doors: 2\n",
      "Roof Type: sun\n",
      "\n",
      "Please select an option! \n",
      "1. Enter a new car's information \n",
      "2. Quit\n",
      "Selection: 2\n",
      "Terminating...\n"
     ]
    },
    {
     "data": {
      "text/plain": [
       "<IPython.core.autocall.ZMQExitAutocall at 0x20fe0cc5a60>"
      ]
     },
     "execution_count": 1,
     "metadata": {},
     "output_type": "execute_result"
    }
   ],
   "source": [
    "#Erica Macedo\n",
    "#Last day updated: 06/26/2022\n",
    "#Purpose: An app that takes car information\n",
    "# that must include a super class\n",
    "#\n",
    "\n",
    "\n",
    "class Vehicle:\n",
    "        def __init__(self, vehicle_Type):\n",
    "                self.vehicle_Type = vehicle_Type\n",
    "\n",
    "        \n",
    "class Automobile(Vehicle):\n",
    "        def __init__(self, vehicle_Type, year, make, model, doors, roof):\n",
    "                super(Automobile, self).__init__(vehicle_Type)\n",
    "                self.year = year\n",
    "                self.make = make\n",
    "                self.model = model\n",
    "                self.doors = doors\n",
    "                self.roof = roof\n",
    "        #line to print car details at once\n",
    "        def automobile_details(self):\n",
    "                return 'Here is a confirmation of your details:\\nYear: ' + self.year +'\\nMake: ' + self.make+ '\\nModel: ' + self.model+ '\\nNumber of Doors: ' + str(self.doors) + '\\nRoof Type: ' + self.roof\n",
    "\n",
    "print(\"Hello! You can store car details here!\")\n",
    "print(\"Please select an option! \\n1. Enter a new car's information \\n2. Quit\")\n",
    "selection = int(input(\"Selection: \"))\n",
    "\n",
    "while selection == 1:\n",
    "        myCarType = input(\"Do you have a car, truck, plane, boat, or broomstick? \")\n",
    "        myCarYear = input(\"Year of vehicle: \")\n",
    "        myCarMake = input(\"Make of vehicle: \")\n",
    "        myCarModel = input(\"Model of vehicle: \")\n",
    "        #input validation for car doors\n",
    "        myCarDoors = int(input(\"2 or 4 doors (Note: Just enter a digit): \"))\n",
    "        while (myCarDoors != 2 and myCarDoors != 4):\n",
    "                myCarDoors = int(input(\"Incorrect entry! Please enter 2 or 4: \"))\n",
    "        myCarRoof = input(\"Enter sun for sunroof or solid for a solid car roof: \")\n",
    "        #input validation for car roof type\n",
    "        while (myCarRoof != \"sun\" and myCarRoof != \"solid\" and myCarRoof != \"SUN\" and myCarRoof != \"SOLID\" and myCarRoof != \"Sun\" and myCarRoof != \"Solid\"):\n",
    "                myCarRoof = input(\"Please try again! Enter sun for sunroof or solid for a solid car roof: \")\n",
    "        myCarObject = Automobile(myCarType, myCarYear, myCarMake, myCarModel, myCarDoors, myCarRoof)\n",
    "        print(myCarObject.automobile_details())\n",
    "        print(\"\\nPlease select an option! \\n1. Enter a new car's information \\n2. Quit\")\n",
    "        selection = int(input(\"Selection: \"))\n",
    "else:\n",
    "        print(\"Terminating...\")\n",
    "\n",
    "quit"
   ]
  },
  {
   "cell_type": "code",
   "execution_count": null,
   "id": "4ac8e0ea",
   "metadata": {},
   "outputs": [],
   "source": []
  }
 ],
 "metadata": {
  "kernelspec": {
   "display_name": "Python 3 (ipykernel)",
   "language": "python",
   "name": "python3"
  },
  "language_info": {
   "codemirror_mode": {
    "name": "ipython",
    "version": 3
   },
   "file_extension": ".py",
   "mimetype": "text/x-python",
   "name": "python",
   "nbconvert_exporter": "python",
   "pygments_lexer": "ipython3",
   "version": "3.9.12"
  }
 },
 "nbformat": 4,
 "nbformat_minor": 5
}
