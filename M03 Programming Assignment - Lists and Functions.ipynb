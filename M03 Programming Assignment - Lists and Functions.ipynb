{
 "cells": [
  {
   "cell_type": "markdown",
   "id": "0dc26604",
   "metadata": {},
   "source": [
    "7.4"
   ]
  },
  {
   "cell_type": "code",
   "execution_count": 1,
   "id": "2a9f1b7c",
   "metadata": {},
   "outputs": [
    {
     "name": "stdout",
     "output_type": "stream",
     "text": [
      "['mozzarella', 'cinderella', 'salmonella']\n"
     ]
    }
   ],
   "source": [
    "things_list = [\"mozzarella\", \"cinderella\", \"salmonella\"]\n",
    "print(things_list)\n"
   ]
  },
  {
   "cell_type": "markdown",
   "id": "859d31a4",
   "metadata": {},
   "source": [
    "7.5 - Yes, it changed the elements of the list. This change was possible because lists are mutable. "
   ]
  },
  {
   "cell_type": "code",
   "execution_count": 7,
   "id": "904f694d",
   "metadata": {},
   "outputs": [
    {
     "name": "stdout",
     "output_type": "stream",
     "text": [
      "['mozzarella', 'cinderella', 'salmonella']\n",
      "['mozzarella', 'Cinderella', 'salmonella']\n"
     ]
    }
   ],
   "source": [
    "things_list = [\"mozzarella\", \"cinderella\", \"salmonella\"]\n",
    "print(things_list)\n",
    "things_list[1] = things_list[1].capitalize()\n",
    "print(things_list)"
   ]
  },
  {
   "cell_type": "markdown",
   "id": "92462371",
   "metadata": {},
   "source": [
    "7.6"
   ]
  },
  {
   "cell_type": "code",
   "execution_count": 12,
   "id": "f9978ab7",
   "metadata": {},
   "outputs": [
    {
     "name": "stdout",
     "output_type": "stream",
     "text": [
      "['mozzarella', 'cinderella', 'salmonella']\n",
      "['MOZZARELLA', 'cinderella', 'salmonella']\n"
     ]
    }
   ],
   "source": [
    "things_list = [\"mozzarella\", \"cinderella\", \"salmonella\"]\n",
    "print(things_list)\n",
    "things_list[0] = things_list[0].upper()\n",
    "print(things_list)"
   ]
  },
  {
   "cell_type": "markdown",
   "id": "a4587e1e",
   "metadata": {},
   "source": [
    "7.7"
   ]
  },
  {
   "cell_type": "code",
   "execution_count": 16,
   "id": "1cb41b14",
   "metadata": {},
   "outputs": [
    {
     "name": "stdout",
     "output_type": "stream",
     "text": [
      "['mozzarella', 'cinderella', 'salmonella']\n",
      "['mozzarella', 'cinderella']\n"
     ]
    }
   ],
   "source": [
    "things_list = [\"mozzarella\", \"cinderella\", \"salmonella\"]\n",
    "print(things_list)\n",
    "things_list.remove(things_list[2])\n",
    "print(things_list)"
   ]
  },
  {
   "cell_type": "markdown",
   "id": "ec42e047",
   "metadata": {},
   "source": [
    "9.1"
   ]
  },
  {
   "cell_type": "code",
   "execution_count": 17,
   "id": "e747b035",
   "metadata": {},
   "outputs": [
    {
     "name": "stdout",
     "output_type": "stream",
     "text": [
      "['Harry', 'Ron', 'Hermione']\n"
     ]
    }
   ],
   "source": [
    "def good():\n",
    "        return ['Harry', 'Ron', 'Hermione']\n",
    "\n",
    "print(good())"
   ]
  },
  {
   "cell_type": "markdown",
   "id": "e164809a",
   "metadata": {},
   "source": [
    "9.2... I know I did this one incorrectly ): The instructions are \"Define a generator function called get_odds() that returns the odd numbers from range(10). Use a for loop to find and print the third value returned.\" I do not know if I am overcomplicating it but I cannot seem to get it right. "
   ]
  },
  {
   "cell_type": "code",
   "execution_count": 1,
   "id": "dfa29789",
   "metadata": {},
   "outputs": [
    {
     "name": "stdout",
     "output_type": "stream",
     "text": [
      "5\n"
     ]
    }
   ],
   "source": [
    "def get_odds():\n",
    "        odd_list = []\n",
    "        for i in range(1, 10):\n",
    "                if (i % 2 == 1):\n",
    "                        odd_list.append(i)\n",
    "                else:\n",
    "                        pass\n",
    "        return(odd_list[2])\n",
    "        \n",
    "        \n",
    "print(get_odds())\n"
   ]
  },
  {
   "cell_type": "code",
   "execution_count": 2,
   "id": "c7620acc",
   "metadata": {},
   "outputs": [
    {
     "name": "stdout",
     "output_type": "stream",
     "text": [
      "[1, 3, 5, 7, 9]\n"
     ]
    }
   ],
   "source": [
    "def get_odds():\n",
    "        odd_list = []\n",
    "        for i in range(1, 10):\n",
    "                if (i % 2 == 1):\n",
    "                        odd_list.append(i)\n",
    "                else:\n",
    "                        pass\n",
    "        return(odd_list)\n",
    "        \n",
    "        \n",
    "print(get_odds())\n"
   ]
  },
  {
   "cell_type": "code",
   "execution_count": null,
   "id": "94c962a1",
   "metadata": {},
   "outputs": [],
   "source": []
  }
 ],
 "metadata": {
  "kernelspec": {
   "display_name": "Python 3 (ipykernel)",
   "language": "python",
   "name": "python3"
  },
  "language_info": {
   "codemirror_mode": {
    "name": "ipython",
    "version": 3
   },
   "file_extension": ".py",
   "mimetype": "text/x-python",
   "name": "python",
   "nbconvert_exporter": "python",
   "pygments_lexer": "ipython3",
   "version": "3.9.12"
  }
 },
 "nbformat": 4,
 "nbformat_minor": 5
}
